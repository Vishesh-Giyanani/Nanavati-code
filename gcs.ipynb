{
 "cells": [
  {
   "cell_type": "code",
   "execution_count": null,
   "metadata": {},
   "outputs": [],
   "source": [
    "%pip install google-cloud-storage\n",
    "%pip install google-auth google-auth-oauthlib google-auth-httplib2\n",
    "%gcloud auth application-default login"
   ]
  },
  {
   "cell_type": "code",
   "execution_count": 1,
   "metadata": {},
   "outputs": [],
   "source": [
    "import os\n",
    "from google.cloud import storage\n",
    "from google.oauth2 import service_account"
   ]
  },
  {
   "cell_type": "code",
   "execution_count": null,
   "metadata": {},
   "outputs": [],
   "source": [
    "def initialize_gcs_client():\n",
    "    return storage.Client()\n",
    "\n",
    "def upload_file_to_gcs(bucket, local_file_path, gcs_file_path):\n",
    "    blob = bucket.blob(gcs_file_path)\n",
    "    blob.upload_from_filename(local_file_path)\n",
    "    print(f\"Uploaded {local_file_path} to {gcs_file_path}\")\n",
    "\n",
    "def upload_directory_to_gcs(client, bucket_name, local_directory, gcs_directory):\n",
    "    bucket = client.get_bucket(bucket_name)\n",
    "\n",
    "    for root, _, files in os.walk(local_directory):\n",
    "        for file in files:\n",
    "            local_file_path = os.path.join(root, file)\n",
    "            gcs_file_path = os.path.relpath(local_file_path, local_directory)\n",
    "            gcs_file_path = os.path.join(gcs_directory, gcs_file_path).replace(\"\\\\\", \"/\")\n",
    "            upload_file_to_gcs(bucket, local_file_path, gcs_file_path)"
   ]
  },
  {
   "cell_type": "code",
   "execution_count": null,
   "metadata": {},
   "outputs": [],
   "source": [
    "bucket_name = \"nanavati_data\"\n",
    "local_directory = \"DICOM_Folder\"\n",
    "gcs_directory = \"DICOM_Folder\"\n",
    "\n",
    "client = initialize_gcs_client()\n",
    "upload_directory_to_gcs(client, bucket_name, local_directory, gcs_directory)"
   ]
  }
 ],
 "metadata": {
  "kernelspec": {
   "display_name": "Python 3",
   "language": "python",
   "name": "python3"
  },
  "language_info": {
   "codemirror_mode": {
    "name": "ipython",
    "version": 3
   },
   "file_extension": ".py",
   "mimetype": "text/x-python",
   "name": "python",
   "nbconvert_exporter": "python",
   "pygments_lexer": "ipython3",
   "version": "3.10.5"
  }
 },
 "nbformat": 4,
 "nbformat_minor": 2
}
